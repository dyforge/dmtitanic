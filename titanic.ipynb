{
  "nbformat": 4,
  "nbformat_minor": 0,
  "metadata": {
    "colab": {
      "provenance": [],
      "toc_visible": true,
      "collapsed_sections": []
    },
    "kernelspec": {
      "name": "python3",
      "display_name": "Python 3"
    },
    "language_info": {
      "name": "python"
    }
  },
  "cells": [
    {
      "cell_type": "code",
      "execution_count": null,
      "metadata": {
        "id": "qrWMMZQierDv"
      },
      "outputs": [],
      "source": [
        "import seaborn as sns\n",
        "import matplotlib.pyplot as plt\n",
        "import numpy as np # linear algebra\n",
        "import pandas as pd \n",
        "from sklearn.impute import SimpleImputer"
      ]
    },
    {
      "cell_type": "code",
      "source": [
        "from google.colab import drive\n",
        "drive.mount('/content/drive')"
      ],
      "metadata": {
        "colab": {
          "base_uri": "https://localhost:8080/"
        },
        "id": "OdUTJ3zngPUF",
        "outputId": "4d1fb12d-9f93-4734-a8e0-a504f7c77afe"
      },
      "execution_count": null,
      "outputs": [
        {
          "output_type": "stream",
          "name": "stdout",
          "text": [
            "Mounted at /content/drive\n"
          ]
        }
      ]
    },
    {
      "cell_type": "code",
      "source": [
        "os.listdir()"
      ],
      "metadata": {
        "colab": {
          "base_uri": "https://localhost:8080/"
        },
        "id": "ft-THGMPhwz5",
        "outputId": "9b982453-2c9f-4238-b5eb-4e3814c79c0a"
      },
      "execution_count": null,
      "outputs": [
        {
          "output_type": "execute_result",
          "data": {
            "text/plain": [
              "['.config', 'drive', 'sample_data']"
            ]
          },
          "metadata": {},
          "execution_count": 19
        }
      ]
    },
    {
      "cell_type": "code",
      "source": [
        "%cd drive/My Drive\n",
        "%cd UTA/5334/Titanic"
      ],
      "metadata": {
        "colab": {
          "base_uri": "https://localhost:8080/"
        },
        "id": "BwU8SHqNh6-P",
        "outputId": "ad5069cb-9c74-47db-f85c-2309d43be6a1"
      },
      "execution_count": null,
      "outputs": [
        {
          "output_type": "stream",
          "name": "stdout",
          "text": [
            "/content/drive/My Drive\n",
            "/content/drive/My Drive/UTA/5334/Titanic\n"
          ]
        }
      ]
    },
    {
      "cell_type": "code",
      "source": [
        "os.listdir()"
      ],
      "metadata": {
        "colab": {
          "base_uri": "https://localhost:8080/"
        },
        "id": "RhpWpDSKiatq",
        "outputId": "d87d631e-101c-4919-fa6e-9cd1ea466baa"
      },
      "execution_count": null,
      "outputs": [
        {
          "output_type": "execute_result",
          "data": {
            "text/plain": [
              "['titanic.ipynb',\n",
              " 'titanic.zip',\n",
              " 'oldsubmission.csv',\n",
              " 'submission_v1.csv',\n",
              " 'submission.csv',\n",
              " 'titanic_kaggle.ipynb',\n",
              " '.DS_Store',\n",
              " '.ipynb_checkpoints',\n",
              " 'titanic']"
            ]
          },
          "metadata": {},
          "execution_count": 24
        }
      ]
    },
    {
      "cell_type": "code",
      "source": [
        "os.walk('/titanic')"
      ],
      "metadata": {
        "colab": {
          "base_uri": "https://localhost:8080/"
        },
        "id": "TlNOeN2HizIe",
        "outputId": "44f1bc5f-2aa4-419d-8cd0-f032367c2639"
      },
      "execution_count": null,
      "outputs": [
        {
          "output_type": "execute_result",
          "data": {
            "text/plain": [
              "<generator object walk at 0x7f159bf49ed0>"
            ]
          },
          "metadata": {},
          "execution_count": 29
        }
      ]
    },
    {
      "cell_type": "code",
      "source": [
        "os.listdir()"
      ],
      "metadata": {
        "colab": {
          "base_uri": "https://localhost:8080/"
        },
        "id": "oWoMdN4yi2y2",
        "outputId": "41bab662-8272-45f7-86c7-3b54407aee9a"
      },
      "execution_count": null,
      "outputs": [
        {
          "output_type": "execute_result",
          "data": {
            "text/plain": [
              "['titanic.ipynb',\n",
              " 'titanic.zip',\n",
              " 'oldsubmission.csv',\n",
              " 'submission_v1.csv',\n",
              " 'submission.csv',\n",
              " 'titanic_kaggle.ipynb',\n",
              " '.DS_Store',\n",
              " '.ipynb_checkpoints',\n",
              " 'titanic']"
            ]
          },
          "metadata": {},
          "execution_count": 30
        }
      ]
    },
    {
      "cell_type": "code",
      "source": [
        "import os\n",
        "for dirname, _, filenames in os.walk('titanic'):\n",
        "    for filename in filenames:\n",
        "      print(\"filepath\",os.path.join(dirname, filename))"
      ],
      "metadata": {
        "colab": {
          "base_uri": "https://localhost:8080/"
        },
        "id": "oGaFviHSfRlj",
        "outputId": "8541c995-da71-4e89-f341-d2cd7fb42226"
      },
      "execution_count": null,
      "outputs": [
        {
          "output_type": "stream",
          "name": "stdout",
          "text": [
            "filepath titanic/train.csv\n",
            "filepath titanic/test.csv\n",
            "filepath titanic/gender_submission.csv\n"
          ]
        }
      ]
    },
    {
      "cell_type": "markdown",
      "source": [
        "(Contribution) : Data Preprocessing step \n",
        "Checking for NAN and Null value in training data set.\n",
        "\n",
        "Generated correlation heat map to find the features having positive correlations.\n",
        "\n",
        "Creating new data frame from existing and removing the NAN,NULL value with mean value for the column"
      ],
      "metadata": {
        "id": "M5FnRbH9jS_k"
      }
    },
    {
      "cell_type": "code",
      "source": [
        "training_data = pd.read_csv(\"titanic/train.csv\")\n",
        "training_data.head()\n",
        "print(\"Is NULL\")\n",
        "print(training_data.isnull().any())\n",
        "print(\"Is NA\")\n",
        "print(training_data.isna().any())"
      ],
      "metadata": {
        "colab": {
          "base_uri": "https://localhost:8080/"
        },
        "id": "OCF6cVVffvtt",
        "outputId": "db1ed427-829c-4547-8d18-79eb08383875"
      },
      "execution_count": null,
      "outputs": [
        {
          "output_type": "stream",
          "name": "stdout",
          "text": [
            "Is NULL\n",
            "PassengerId    False\n",
            "Survived       False\n",
            "Pclass         False\n",
            "Name           False\n",
            "Sex            False\n",
            "Age             True\n",
            "SibSp          False\n",
            "Parch          False\n",
            "Ticket         False\n",
            "Fare           False\n",
            "Cabin           True\n",
            "Embarked        True\n",
            "dtype: bool\n",
            "Is NA\n",
            "PassengerId    False\n",
            "Survived       False\n",
            "Pclass         False\n",
            "Name           False\n",
            "Sex            False\n",
            "Age             True\n",
            "SibSp          False\n",
            "Parch          False\n",
            "Ticket         False\n",
            "Fare           False\n",
            "Cabin           True\n",
            "Embarked        True\n",
            "dtype: bool\n"
          ]
        }
      ]
    },
    {
      "cell_type": "code",
      "source": [
        "mask = np.zeros_like(training_data.corr())\n",
        "mask[np.triu_indices_from(mask)] = True\n",
        "cmap = sns.diverging_palette(300, 100, sep=20, as_cmap=True, s=80, l=10, n=20)\n",
        "with sns.axes_style(\"white\"):\n",
        "    fig, ax = plt.subplots(1,1, figsize=(15,8))\n",
        "    ax = sns.heatmap(training_data.corr(), mask=mask, vmax=0.2, square=True, annot=True, fmt=\".3f\", cmap=cmap)"
      ],
      "metadata": {
        "colab": {
          "base_uri": "https://localhost:8080/",
          "height": 487
        },
        "id": "RXhP80tnkkU9",
        "outputId": "343b0a73-7f42-4d6d-c5b0-aeef1f5cfa2a"
      },
      "execution_count": 98,
      "outputs": [
        {
          "output_type": "display_data",
          "data": {
            "text/plain": [
              "<Figure size 1080x576 with 2 Axes>"
            ],
            "image/png": "[encoded data removed]"
          },
          "metadata": {}
        }
      ]
    },
    {
      "cell_type": "code",
      "source": [
        "new_training_data = training_data.copy()\n",
        "fare_mean = new_training_data[\"Fare\"].mean()\n",
        "new_training_data.Fare.fillna(new_training_data.Fare.dropna().mean())\n",
        "print(training_data.isna().any())"
      ],
      "metadata": {
        "colab": {
          "base_uri": "https://localhost:8080/"
        },
        "id": "3d0Xz3hZkVqL",
        "outputId": "76f7073e-1ebb-45d1-d2af-74ea9c809493"
      },
      "execution_count": null,
      "outputs": [
        {
          "output_type": "stream",
          "name": "stdout",
          "text": [
            "PassengerId    False\n",
            "Survived       False\n",
            "Pclass         False\n",
            "Name           False\n",
            "Sex            False\n",
            "Age             True\n",
            "SibSp          False\n",
            "Parch          False\n",
            "Ticket         False\n",
            "Fare           False\n",
            "Cabin           True\n",
            "Embarked        True\n",
            "dtype: bool\n"
          ]
        }
      ]
    },
    {
      "cell_type": "code",
      "source": [
        "test_data = pd.read_csv(\"titanic/test.csv\")\n",
        "new_test_data = test_data.copy()\n",
        "imputer = SimpleImputer(strategy='mean', missing_values=np.nan)\n",
        "imputer = imputer.fit(new_test_data[['Fare']])\n",
        "new_test_data['Fare'] = imputer.transform(new_test_data[['Fare']])\n",
        "print(new_test_data.isna().any())"
      ],
      "metadata": {
        "colab": {
          "base_uri": "https://localhost:8080/"
        },
        "id": "x8PwJC2kkzAZ",
        "outputId": "4ee565e1-8423-4e14-f0d1-c133c5614943"
      },
      "execution_count": null,
      "outputs": [
        {
          "output_type": "stream",
          "name": "stdout",
          "text": [
            "PassengerId    False\n",
            "Pclass         False\n",
            "Name           False\n",
            "Sex            False\n",
            "Age             True\n",
            "SibSp          False\n",
            "Parch          False\n",
            "Ticket         False\n",
            "Fare           False\n",
            "Cabin           True\n",
            "Embarked       False\n",
            "dtype: bool\n"
          ]
        }
      ]
    },
    {
      "cell_type": "code",
      "source": [
        "women = training_data.loc[training_data.Sex == 'female'][\"Survived\"]\n",
        "rate_women = sum(women)/len(women)\n",
        "\n",
        "print(\"% of women who survived:\", rate_women)"
      ],
      "metadata": {
        "colab": {
          "base_uri": "https://localhost:8080/"
        },
        "id": "DIAWKdIvk7L-",
        "outputId": "f30f4a30-5ff4-4459-babe-d14cc2a3ebf6"
      },
      "execution_count": null,
      "outputs": [
        {
          "output_type": "stream",
          "name": "stdout",
          "text": [
            "% of women who survived: 0.7420382165605095\n"
          ]
        }
      ]
    },
    {
      "cell_type": "code",
      "source": [
        "men = training_data.loc[training_data.Sex == 'male'][\"Survived\"]\n",
        "rate_men = sum(men)/len(men)\n",
        "\n",
        "print(\"% of men who survived:\", rate_men)"
      ],
      "metadata": {
        "colab": {
          "base_uri": "https://localhost:8080/"
        },
        "id": "ystjSdWYk8hY",
        "outputId": "6411e1ff-2424-44cd-ed73-f4b64c06e205"
      },
      "execution_count": null,
      "outputs": [
        {
          "output_type": "stream",
          "name": "stdout",
          "text": [
            "% of men who survived: 0.18890814558058924\n"
          ]
        }
      ]
    },
    {
      "cell_type": "markdown",
      "source": [
        "Score: 0.76555"
      ],
      "metadata": {
        "id": "RkZ-M9VmmApy"
      }
    },
    {
      "cell_type": "code",
      "source": [
        "from sklearn.ensemble import RandomForestClassifier\n",
        "\n",
        "y = training_data[\"Survived\"]\n",
        "\n",
        "features = [\"Pclass\", \"Sex\", \"SibSp\", \"Parch\"]\n",
        "X = pd.get_dummies(training_data[features])\n",
        "X_test = pd.get_dummies(test_data[features])\n",
        "\n",
        "model = RandomForestClassifier(n_estimators=1, max_depth=1, random_state=1)\n",
        "model.fit(X, y)\n",
        "predictions = model.predict(X_test)\n",
        "\n",
        "output = pd.DataFrame({'PassengerId': test_data.PassengerId, 'Survived': predictions})\n",
        "output.to_csv('submission.csv', index=False)\n",
        "print(\"Your submission was successfully saved!\")"
      ],
      "metadata": {
        "colab": {
          "base_uri": "https://localhost:8080/"
        },
        "id": "iql3Geq3lEa2",
        "outputId": "41778f92-08ad-4101-fcf2-f12ac5d917c2"
      },
      "execution_count": null,
      "outputs": [
        {
          "output_type": "stream",
          "name": "stdout",
          "text": [
            "Your submission was successfully saved!\n"
          ]
        }
      ]
    },
    {
      "cell_type": "markdown",
      "source": [
        "Score: 0.66746"
      ],
      "metadata": {
        "id": "TqRsnR6guiE-"
      }
    },
    {
      "cell_type": "code",
      "source": [
        "from sklearn.ensemble import RandomForestClassifier\n",
        "\n",
        "y = training_data[\"Survived\"]\n",
        "\n",
        "# training_data['Fare'] = training_data['Fare'].apply(lambda x: np.round(x, decimals=0)).astype(np.int32)\n",
        "# new_test_data['Fare'] = new_test_data['Fare'].apply(lambda x: np.round(x, decimals=0)).astype(np.int32)\n",
        "# training_data['Fare'] = training_data['Fare'].astype(np.float32)\n",
        "features = [\"Pclass\", \"Sex\", \"SibSp\", \"Parch\",\"Fare\"]\n",
        "\n",
        "X_updated = pd.get_dummies(training_data[features])\n",
        "X_test_updated = pd.get_dummies(new_test_data[features])\n",
        "\n",
        "model = RandomForestClassifier(n_estimators=20, max_depth=5, random_state=1)\n",
        "model.fit(X_updated, y)\n",
        "predictions = model.predict(X_test_updated)\n",
        "\n",
        "output = pd.DataFrame({'PassengerId': test_data.PassengerId, 'Survived': predictions})\n",
        "output.to_csv('submission.csv', index=False)\n",
        "print(\"Your submission was successfully saved!\")"
      ],
      "metadata": {
        "colab": {
          "base_uri": "https://localhost:8080/"
        },
        "id": "QkmEU-1snI6e",
        "outputId": "cf71e437-e5d5-421c-cea0-7c134082fa62"
      },
      "execution_count": 99,
      "outputs": [
        {
          "output_type": "stream",
          "name": "stdout",
          "text": [
            "Your submission was successfully saved!\n"
          ]
        }
      ]
    },
    {
      "cell_type": "markdown",
      "source": [
        "Score: 0.77511"
      ],
      "metadata": {
        "id": "pkSSboGkvdOQ"
      }
    },
    {
      "cell_type": "code",
      "source": [
        "from sklearn.ensemble import RandomForestClassifier\n",
        "\n",
        "y = training_data[\"Survived\"]\n",
        "\n",
        "# training_data['Fare'] = training_data['Fare'].apply(lambda x: np.round(x, decimals=0)).astype(np.int32)\n",
        "# new_test_data['Fare'] = new_test_data['Fare'].apply(lambda x: np.round(x, decimals=0)).astype(np.int32)\n",
        "# # training_data['Fare'] = training_data['Fare'].astype(np.float32)\n",
        "features = [\"Pclass\", \"Sex\", \"SibSp\", \"Parch\",\"Fare\"]\n",
        "\n",
        "X_updated = pd.get_dummies(training_data[features])\n",
        "X_test_updated = pd.get_dummies(new_test_data[features])\n",
        "\n",
        "model = RandomForestClassifier(n_estimators=20, max_depth=5, random_state=1)\n",
        "model.fit(X_updated, y)\n",
        "predictions = model.predict(X_test_updated)\n",
        "\n",
        "output = pd.DataFrame({'PassengerId': test_data.PassengerId, 'Survived': predictions})\n",
        "output.to_csv('submission.csv', index=False)\n",
        "print(\"Your submission was successfully saved!\")"
      ],
      "metadata": {
        "colab": {
          "base_uri": "https://localhost:8080/"
        },
        "id": "BH028WsFvbA1",
        "outputId": "2fba2346-d2b8-4e81-c098-7813319f5f53"
      },
      "execution_count": null,
      "outputs": [
        {
          "output_type": "stream",
          "name": "stdout",
          "text": [
            "Your submission was successfully saved!\n"
          ]
        }
      ]
    },
    {
      "cell_type": "markdown",
      "source": [
        "Score: 0.77272"
      ],
      "metadata": {
        "id": "OI5M4pmjxm2G"
      }
    },
    {
      "cell_type": "code",
      "source": [
        "from sklearn.ensemble import RandomForestClassifier\n",
        "\n",
        "y = training_data[\"Survived\"]\n",
        "\n",
        "# training_data['Fare'] = training_data['Fare'].apply(lambda x: np.round(x, decimals=0)).astype(np.int32)\n",
        "# new_test_data['Fare'] = new_test_data['Fare'].apply(lambda x: np.round(x, decimals=0)).astype(np.int32)\n",
        "# # training_data['Fare'] = training_data['Fare'].astype(np.float32)\n",
        "features = [\"Pclass\", \"Sex\", \"SibSp\", \"Parch\",\"Fare\"]\n",
        "\n",
        "X_updated = pd.get_dummies(training_data[features])\n",
        "X_test_updated = pd.get_dummies(new_test_data[features])\n",
        "\n",
        "model = RandomForestClassifier(n_estimators=100, max_depth=16, random_state=2)\n",
        "model.fit(X_updated, y)\n",
        "predictions = model.predict(X_test_updated)\n",
        "\n",
        "output = pd.DataFrame({'PassengerId': test_data.PassengerId, 'Survived': predictions})\n",
        "output.to_csv('submission.csv', index=False)\n",
        "print(\"Your submission was successfully saved!\")"
      ],
      "metadata": {
        "colab": {
          "base_uri": "https://localhost:8080/"
        },
        "id": "Km2l3smAw8K3",
        "outputId": "d2236186-8efc-401c-b743-d17f0a6b0e99"
      },
      "execution_count": 100,
      "outputs": [
        {
          "output_type": "stream",
          "name": "stdout",
          "text": [
            "Your submission was successfully saved!\n"
          ]
        }
      ]
    }
  ]
}