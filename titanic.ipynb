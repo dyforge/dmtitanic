{
  "nbformat": 4,
  "nbformat_minor": 0,
  "metadata": {
    "colab": {
      "provenance": [],
      "toc_visible": true,
      "collapsed_sections": []
    },
    "kernelspec": {
      "name": "python3",
      "display_name": "Python 3"
    },
    "language_info": {
      "name": "python"
    }
  },
  "cells": [
    {
      "cell_type": "code",
      "execution_count": 2,
      "metadata": {
        "id": "qrWMMZQierDv"
      },
      "outputs": [],
      "source": [
        "import seaborn as sns\n",
        "import matplotlib.pyplot as plt\n",
        "import numpy as np # linear algebra\n",
        "import pandas as pd \n",
        "import os\n",
        "from sklearn.impute import SimpleImputer"
      ]
    },
    {
      "cell_type": "code",
      "source": [
        "from google.colab import drive\n",
        "drive.mount('/content/drive')"
      ],
      "metadata": {
        "colab": {
          "base_uri": "https://localhost:8080/"
        },
        "id": "OdUTJ3zngPUF",
        "outputId": "3bf4ba6a-feec-4f9f-be7d-509b9b218bd1"
      },
      "execution_count": 3,
      "outputs": [
        {
          "output_type": "stream",
          "name": "stdout",
          "text": [
            "Mounted at /content/drive\n"
          ]
        }
      ]
    },
    {
      "cell_type": "code",
      "source": [
        "os.listdir()"
      ],
      "metadata": {
        "colab": {
          "base_uri": "https://localhost:8080/"
        },
        "id": "ft-THGMPhwz5",
        "outputId": "4071b059-214c-4f2a-adb4-98f9074440b2"
      },
      "execution_count": 4,
      "outputs": [
        {
          "output_type": "execute_result",
          "data": {
            "text/plain": [
              "['.config', 'drive', 'sample_data']"
            ]
          },
          "metadata": {},
          "execution_count": 4
        }
      ]
    },
    {
      "cell_type": "code",
      "source": [
        "%cd drive/My Drive\n",
        "%cd UTA/5334/Titanic"
      ],
      "metadata": {
        "colab": {
          "base_uri": "https://localhost:8080/"
        },
        "id": "BwU8SHqNh6-P",
        "outputId": "f6ad928c-147a-4362-af3e-f573a903ed22"
      },
      "execution_count": 5,
      "outputs": [
        {
          "output_type": "stream",
          "name": "stdout",
          "text": [
            "/content/drive/My Drive\n",
            "/content/drive/My Drive/UTA/5334/Titanic\n"
          ]
        }
      ]
    },
    {
      "cell_type": "code",
      "source": [
        "import os\n",
        "for dirname, _, filenames in os.walk('titanic'):\n",
        "    for filename in filenames:\n",
        "      print(\"filepath\",os.path.join(dirname, filename))"
      ],
      "metadata": {
        "colab": {
          "base_uri": "https://localhost:8080/"
        },
        "id": "oGaFviHSfRlj",
        "outputId": "f43df86f-fff8-4cb9-f4a2-fff3b319735f"
      },
      "execution_count": 6,
      "outputs": [
        {
          "output_type": "stream",
          "name": "stdout",
          "text": [
            "filepath titanic/train.csv\n",
            "filepath titanic/test.csv\n",
            "filepath titanic/gender_submission.csv\n"
          ]
        }
      ]
    },
    {
      "cell_type": "markdown",
      "source": [
        "(Contribution) : Data Preprocessing step \n",
        "Checking for NAN and Null value in training data set.\n",
        "\n",
        "Generated correlation heat map to find the features having positive correlations.\n",
        "\n",
        "Creating new data frame from existing and removing the NAN,NULL value with Test Dataset with mean value for the column"
      ],
      "metadata": {
        "id": "M5FnRbH9jS_k"
      }
    },
    {
      "cell_type": "code",
      "source": [
        "training_data = pd.read_csv(\"titanic/train.csv\")\n",
        "training_data.head()\n",
        "print(\"Is NULL?\")\n",
        "print(training_data.isnull().any())\n",
        "print(\"Is NA?\")\n",
        "print(training_data.isna().any())"
      ],
      "metadata": {
        "colab": {
          "base_uri": "https://localhost:8080/"
        },
        "id": "OCF6cVVffvtt",
        "outputId": "a4a317d6-704a-46fd-c569-b3215fce3302"
      },
      "execution_count": 8,
      "outputs": [
        {
          "output_type": "stream",
          "name": "stdout",
          "text": [
            "Is NULL?\n",
            "PassengerId    False\n",
            "Survived       False\n",
            "Pclass         False\n",
            "Name           False\n",
            "Sex            False\n",
            "Age             True\n",
            "SibSp          False\n",
            "Parch          False\n",
            "Ticket         False\n",
            "Fare           False\n",
            "Cabin           True\n",
            "Embarked        True\n",
            "dtype: bool\n",
            "Is NA?\n",
            "PassengerId    False\n",
            "Survived       False\n",
            "Pclass         False\n",
            "Name           False\n",
            "Sex            False\n",
            "Age             True\n",
            "SibSp          False\n",
            "Parch          False\n",
            "Ticket         False\n",
            "Fare           False\n",
            "Cabin           True\n",
            "Embarked        True\n",
            "dtype: bool\n"
          ]
        }
      ]
    },
    {
      "cell_type": "markdown",
      "source": [
        "Cleaning Test Data for Fare Attribute and copying it to new test data set."
      ],
      "metadata": {
        "id": "wB0p_izdzB5K"
      }
    },
    {
      "cell_type": "code",
      "source": [
        "new_training_data = training_data.copy()\n",
        "fare_mean = new_training_data[\"Fare\"].mean()\n",
        "new_training_data.Fare.fillna(new_training_data.Fare.dropna().mean())\n",
        "print(training_data.isna().any())"
      ],
      "metadata": {
        "colab": {
          "base_uri": "https://localhost:8080/"
        },
        "id": "3d0Xz3hZkVqL",
        "outputId": "01625ee4-6a61-4913-a70c-6e7568d0711c"
      },
      "execution_count": 9,
      "outputs": [
        {
          "output_type": "stream",
          "name": "stdout",
          "text": [
            "PassengerId    False\n",
            "Survived       False\n",
            "Pclass         False\n",
            "Name           False\n",
            "Sex            False\n",
            "Age             True\n",
            "SibSp          False\n",
            "Parch          False\n",
            "Ticket         False\n",
            "Fare           False\n",
            "Cabin           True\n",
            "Embarked        True\n",
            "dtype: bool\n"
          ]
        }
      ]
    },
    {
      "cell_type": "code",
      "source": [
        "mask = np.zeros_like(training_data.corr())\n",
        "mask[np.triu_indices_from(mask)] = True\n",
        "cmap = sns.diverging_palette(300, 100, sep=20, as_cmap=True, s=80, l=10, n=20)\n",
        "with sns.axes_style(\"white\"):\n",
        "    fig, ax = plt.subplots(1,1, figsize=(15,8))\n",
        "    ax = sns.heatmap(training_data.corr(), mask=mask, vmax=0.2, square=True, annot=True, fmt=\".3f\", cmap=cmap)"
      ],
      "metadata": {
        "colab": {
          "base_uri": "https://localhost:8080/",
          "height": 487
        },
        "id": "RXhP80tnkkU9",
        "outputId": "a7451b63-0533-41de-f778-d564759330cf"
      },
      "execution_count": 13,
      "outputs": [
        {
          "output_type": "display_data",
          "data": {
            "text/plain": [
              "<Figure size 1080x576 with 2 Axes>"
            ],
            "image/png": "[encoded data removed]"
          },
          "metadata": {}
        }
      ]
    },
    {
      "cell_type": "code",
      "source": [
        "test_data = pd.read_csv(\"titanic/test.csv\")\n",
        "print(\"Is NA for Fare?\\n\",test_data['Fare'].isna().any())\n",
        "new_test_data = test_data.copy()\n",
        "imputer = SimpleImputer(strategy='mean', missing_values=np.nan)\n",
        "imputer = imputer.fit(new_test_data[['Fare']])\n",
        "new_test_data['Fare'] = imputer.transform(new_test_data[['Fare']])\n",
        "print(\"Is NA for Fare?\\n\",new_test_data['Fare'].isna().any())"
      ],
      "metadata": {
        "colab": {
          "base_uri": "https://localhost:8080/"
        },
        "id": "x8PwJC2kkzAZ",
        "outputId": "6cb4e6f5-adee-4e6b-c45d-26df0df1fa34"
      },
      "execution_count": 13,
      "outputs": [
        {
          "output_type": "stream",
          "name": "stdout",
          "text": [
            "Is NA for Fare?\n",
            " True\n",
            "Is NA for Fare?\n",
            " False\n"
          ]
        }
      ]
    },
    {
      "cell_type": "code",
      "source": [
        "women = training_data.loc[training_data.Sex == 'female'][\"Survived\"]\n",
        "rate_women = sum(women)/len(women)\n",
        "\n",
        "print(\"% of women who survived:\", rate_women)"
      ],
      "metadata": {
        "colab": {
          "base_uri": "https://localhost:8080/"
        },
        "id": "DIAWKdIvk7L-",
        "outputId": "40396013-011f-4465-b92c-554e42c33fd3"
      },
      "execution_count": 16,
      "outputs": [
        {
          "output_type": "stream",
          "name": "stdout",
          "text": [
            "% of women who survived: 0.7420382165605095\n"
          ]
        }
      ]
    },
    {
      "cell_type": "code",
      "source": [
        "men = training_data.loc[training_data.Sex == 'male'][\"Survived\"]\n",
        "rate_men = sum(men)/len(men)\n",
        "\n",
        "print(\"% of men who survived:\", rate_men)"
      ],
      "metadata": {
        "colab": {
          "base_uri": "https://localhost:8080/"
        },
        "id": "ystjSdWYk8hY",
        "outputId": "c829a3e3-9d9d-406e-bc01-a8473a11ba58"
      },
      "execution_count": 17,
      "outputs": [
        {
          "output_type": "stream",
          "name": "stdout",
          "text": [
            "% of men who survived: 0.18890814558058924\n"
          ]
        }
      ]
    },
    {
      "cell_type": "markdown",
      "source": [
        "Score: 0.76555"
      ],
      "metadata": {
        "id": "RkZ-M9VmmApy"
      }
    },
    {
      "cell_type": "code",
      "source": [
        "from sklearn.ensemble import RandomForestClassifier\n",
        "\n",
        "y = training_data[\"Survived\"]\n",
        "\n",
        "features = [\"Pclass\", \"Sex\", \"SibSp\", \"Parch\"]\n",
        "X = pd.get_dummies(training_data[features])\n",
        "X_test = pd.get_dummies(test_data[features])\n",
        "\n",
        "model = RandomForestClassifier(n_estimators=1, max_depth=1, random_state=1)\n",
        "model.fit(X, y)\n",
        "predictions = model.predict(X_test)\n",
        "\n",
        "output = pd.DataFrame({'PassengerId': test_data.PassengerId, 'Survived': predictions})\n",
        "output.to_csv('submission.csv', index=False)\n",
        "print(\"Your submission was successfully saved!\")"
      ],
      "metadata": {
        "colab": {
          "base_uri": "https://localhost:8080/"
        },
        "id": "iql3Geq3lEa2",
        "outputId": "41778f92-08ad-4101-fcf2-f12ac5d917c2"
      },
      "execution_count": null,
      "outputs": [
        {
          "output_type": "stream",
          "name": "stdout",
          "text": [
            "Your submission was successfully saved!\n"
          ]
        }
      ]
    },
    {
      "cell_type": "markdown",
      "source": [
        "Score: 0.66746"
      ],
      "metadata": {
        "id": "TqRsnR6guiE-"
      }
    },
    {
      "cell_type": "code",
      "source": [
        "from sklearn.ensemble import RandomForestClassifier\n",
        "\n",
        "y = training_data[\"Survived\"]\n",
        "\n",
        "features = [\"Pclass\", \"Sex\", \"SibSp\", \"Parch\",\"Fare\"]\n",
        "\n",
        "X_updated = pd.get_dummies(training_data[features])\n",
        "X_test_updated = pd.get_dummies(new_test_data[features])\n",
        "\n",
        "model = RandomForestClassifier(n_estimators=20, max_depth=5, random_state=1)\n",
        "model.fit(X_updated, y)\n",
        "predictions = model.predict(X_test_updated)\n",
        "\n",
        "output = pd.DataFrame({'PassengerId': test_data.PassengerId, 'Survived': predictions})\n",
        "output.to_csv('submission.csv', index=False)\n",
        "print(\"Your submission was successfully saved!\")"
      ],
      "metadata": {
        "colab": {
          "base_uri": "https://localhost:8080/"
        },
        "id": "QkmEU-1snI6e",
        "outputId": "cf71e437-e5d5-421c-cea0-7c134082fa62"
      },
      "execution_count": 99,
      "outputs": [
        {
          "output_type": "stream",
          "name": "stdout",
          "text": [
            "Your submission was successfully saved!\n"
          ]
        }
      ]
    },
    {
      "cell_type": "markdown",
      "source": [
        "Score: 0.77511"
      ],
      "metadata": {
        "id": "pkSSboGkvdOQ"
      }
    },
    {
      "cell_type": "code",
      "source": [
        "from sklearn.ensemble import RandomForestClassifier\n",
        "\n",
        "y = training_data[\"Survived\"]\n",
        "\n",
        "features = [\"Pclass\", \"Sex\", \"SibSp\", \"Parch\",\"Fare\"]\n",
        "\n",
        "X_updated = pd.get_dummies(training_data[features])\n",
        "X_test_updated = pd.get_dummies(new_test_data[features])\n",
        "\n",
        "model = RandomForestClassifier(n_estimators=20, max_depth=5, random_state=1)\n",
        "model.fit(X_updated, y)\n",
        "predictions = model.predict(X_test_updated)\n",
        "\n",
        "output = pd.DataFrame({'PassengerId': test_data.PassengerId, 'Survived': predictions})\n",
        "output.to_csv('submission.csv', index=False)\n",
        "print(\"Your submission was successfully saved!\")"
      ],
      "metadata": {
        "colab": {
          "base_uri": "https://localhost:8080/"
        },
        "id": "BH028WsFvbA1",
        "outputId": "2fba2346-d2b8-4e81-c098-7813319f5f53"
      },
      "execution_count": null,
      "outputs": [
        {
          "output_type": "stream",
          "name": "stdout",
          "text": [
            "Your submission was successfully saved!\n"
          ]
        }
      ]
    },
    {
      "cell_type": "markdown",
      "source": [
        "Score: 0.77272"
      ],
      "metadata": {
        "id": "OI5M4pmjxm2G"
      }
    },
    {
      "cell_type": "code",
      "source": [
        "from sklearn.ensemble import RandomForestClassifier\n",
        "\n",
        "y = training_data[\"Survived\"]\n",
        "\n",
        "features = [\"Pclass\", \"Sex\", \"SibSp\", \"Parch\",\"Fare\"]\n",
        "\n",
        "X_updated = pd.get_dummies(training_data[features])\n",
        "X_test_updated = pd.get_dummies(new_test_data[features])\n",
        "\n",
        "model = RandomForestClassifier(n_estimators=100, max_depth=16, random_state=2)\n",
        "model.fit(X_updated, y)\n",
        "predictions = model.predict(X_test_updated)\n",
        "\n",
        "output = pd.DataFrame({'PassengerId': test_data.PassengerId, 'Survived': predictions})\n",
        "output.to_csv('submission.csv', index=False)\n",
        "print(\"Your submission was successfully saved!\")"
      ],
      "metadata": {
        "colab": {
          "base_uri": "https://localhost:8080/"
        },
        "id": "Km2l3smAw8K3",
        "outputId": "d2236186-8efc-401c-b743-d17f0a6b0e99"
      },
      "execution_count": 100,
      "outputs": [
        {
          "output_type": "stream",
          "name": "stdout",
          "text": [
            "Your submission was successfully saved!\n"
          ]
        }
      ]
    },
    {
      "cell_type": "markdown",
      "source": [
        "Score: 0.78229"
      ],
      "metadata": {
        "id": "-VWPZM6SH-cU"
      }
    },
    {
      "cell_type": "code",
      "source": [
        "from sklearn.ensemble import RandomForestClassifier\n",
        "\n",
        "y = training_data[\"Survived\"]\n",
        "\n",
        "features = [\"Pclass\", \"Sex\", \"SibSp\", \"Parch\"]\n",
        "\n",
        "X_updated = pd.get_dummies(training_data[features])\n",
        "X_test_updated = pd.get_dummies(new_test_data[features])\n",
        "\n",
        "model = RandomForestClassifier(n_estimators=100, max_depth=16, random_state=2)\n",
        "model.fit(X_updated, y)\n",
        "predictions = model.predict(X_test_updated)\n",
        "\n",
        "output = pd.DataFrame({'PassengerId': test_data.PassengerId, 'Survived': predictions})\n",
        "output.to_csv('submission.csv', index=False)\n",
        "print(\"Your submission was successfully saved!\")\n"
      ],
      "metadata": {
        "id": "1YOWa8ShHyMv"
      },
      "execution_count": null,
      "outputs": []
    },
    {
      "cell_type": "markdown",
      "source": [
        "Score: 0.66746 with features = [\"Pclass\", \"Sex\", \"SibSp\", \"Parch\", \"Fare\"]\n",
        "\n",
        "Score: 0.77751 with features = [\"Pclass\", \"Sex\", \"SibSp\", \"Parch\"]"
      ],
      "metadata": {
        "id": "G_etZ_QzChk0"
      }
    },
    {
      "cell_type": "code",
      "source": [
        "from sklearn.svm import SVC\n",
        "\n",
        "y = training_data[\"Survived\"]\n",
        "\n",
        "features = [\"Pclass\", \"Sex\", \"SibSp\", \"Parch\"]\n",
        "\n",
        "X_updated = pd.get_dummies(training_data[features])\n",
        "X_test_updated = pd.get_dummies(new_test_data[features])\n",
        "\n",
        "model = SVC()\n",
        "\n",
        "model.fit(X_updated, y)\n",
        "predictions = model.predict(X_test_updated)\n",
        "\n",
        "output = pd.DataFrame({'PassengerId': test_data.PassengerId, 'Survived': predictions})\n",
        "output.to_csv('submission.csv', index=False)\n",
        "print(\"Your submission was successfully saved!\")"
      ],
      "metadata": {
        "colab": {
          "base_uri": "https://localhost:8080/"
        },
        "id": "kOUvk7gfBCR4",
        "outputId": "545200e2-aa55-4f4b-b930-7630d5c3b8a9"
      },
      "execution_count": 19,
      "outputs": [
        {
          "output_type": "stream",
          "name": "stdout",
          "text": [
            "Your submission was successfully saved!\n"
          ]
        }
      ]
    },
    {
      "cell_type": "markdown",
      "source": [
        "Score: 0.77751"
      ],
      "metadata": {
        "id": "ADnlkTViGS46"
      }
    },
    {
      "cell_type": "code",
      "source": [
        "from sklearn.neighbors import KNeighborsClassifier\n",
        "\n",
        "y = training_data[\"Survived\"]\n",
        "\n",
        "features = [\"Pclass\", \"Sex\", \"SibSp\", \"Parch\"]\n",
        "\n",
        "X_updated = pd.get_dummies(training_data[features])\n",
        "X_test_updated = pd.get_dummies(new_test_data[features])\n",
        "\n",
        "model = KNeighborsClassifier()\n",
        "\n",
        "model.fit(X_updated, y)\n",
        "predictions = model.predict(X_test_updated)\n",
        "\n",
        "output = pd.DataFrame({'PassengerId': test_data.PassengerId, 'Survived': predictions})\n",
        "output.to_csv('submission.csv', index=False)\n",
        "print(\"Your submission was successfully saved!\")"
      ],
      "metadata": {
        "colab": {
          "base_uri": "https://localhost:8080/"
        },
        "id": "ortftKRLFuDv",
        "outputId": "fbb8df65-43a6-4c01-a24a-fdb4eacf4a59"
      },
      "execution_count": 22,
      "outputs": [
        {
          "output_type": "stream",
          "name": "stdout",
          "text": [
            "Your submission was successfully saved!\n"
          ]
        }
      ]
    },
    {
      "cell_type": "markdown",
      "source": [
        "Score: 0.71052"
      ],
      "metadata": {
        "id": "sg79QtZEHD5_"
      }
    },
    {
      "cell_type": "code",
      "source": [
        "from sklearn.neighbors import KNeighborsClassifier\n",
        "\n",
        "y = training_data[\"Survived\"]\n",
        "\n",
        "features = [\"Pclass\", \"Sex\", \"SibSp\", \"Parch\",\"Fare\"]\n",
        "\n",
        "X_updated = pd.get_dummies(training_data[features])\n",
        "X_test_updated = pd.get_dummies(new_test_data[features])\n",
        "\n",
        "model = KNeighborsClassifier(n_neighbors=10,algorithm='kd_tree')\n",
        "\n",
        "model.fit(X_updated, y)\n",
        "predictions = model.predict(X_test_updated)\n",
        "\n",
        "output = pd.DataFrame({'PassengerId': test_data.PassengerId, 'Survived': predictions})\n",
        "output.to_csv('submission.csv', index=False)\n",
        "print(\"Your submission was successfully saved!\")"
      ],
      "metadata": {
        "id": "5_6UEOlQHDOv"
      },
      "execution_count": null,
      "outputs": []
    }
  ]
}